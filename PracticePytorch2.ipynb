{
  "nbformat": 4,
  "nbformat_minor": 0,
  "metadata": {
    "colab": {
      "provenance": [],
      "include_colab_link": true
    },
    "kernelspec": {
      "name": "python3",
      "display_name": "Python 3"
    },
    "language_info": {
      "name": "python"
    },
    "accelerator": "GPU"
  },
  "cells": [
    {
      "cell_type": "markdown",
      "metadata": {
        "id": "view-in-github",
        "colab_type": "text"
      },
      "source": [
        "<a href=\"https://colab.research.google.com/github/HenryJi529/ColabNotebooks/blob/main/PracticePytorch2.ipynb\" target=\"_parent\"><img src=\"https://colab.research.google.com/assets/colab-badge.svg\" alt=\"Open In Colab\"/></a>"
      ]
    },
    {
      "cell_type": "markdown",
      "source": [
        "# 02. PyTorch Classification Exercises\n",
        "\n",
        "The following is a template for 02. PyTorch Classification exercises.\n",
        "\n",
        "It's only starter code and it's your job to fill in the blanks.\n",
        "\n",
        "Because of the flexibility of PyTorch, there may be more than one way to answer the question.\n",
        "\n",
        "Don't worry about trying to be *right* just try writing code that suffices the question.\n",
        "\n",
        "## Resources\n",
        "* These exercises are based on [notebook 02 of the learn PyTorch course](https://www.learnpytorch.io/02_pytorch_classification/).\n",
        "* You can see one form of [solutions on GitHub](https://github.com/mrdbourke/pytorch-deep-learning/tree/main/extras/solutions) (but try the exercises below yourself first!)."
      ],
      "metadata": {
        "id": "ZKJFt7YxH8yl"
      }
    },
    {
      "cell_type": "code",
      "source": [
        "# Import torch\n",
        "import torch\n",
        "\n",
        "# Setup device agnostic code\n",
        "DEVICE = \"cuda\" if torch.cuda.is_available() else \"cpu\"\n",
        "\n",
        "# Setup random seed\n",
        "RANDOM_SEED = 42"
      ],
      "metadata": {
        "id": "CSrUPgapO0tf"
      },
      "execution_count": null,
      "outputs": []
    },
    {
      "cell_type": "markdown",
      "source": [
        "## 1. Make a binary classification dataset with Scikit-Learn's [`make_moons()`](https://scikit-learn.org/stable/modules/generated/sklearn.datasets.make_moons.html) function.\n",
        "  * For consistency, the dataset should have 1000 samples and a `random_state=42`.\n",
        "  * Turn the data into PyTorch tensors. \n",
        "  * Split the data into training and test sets using `train_test_split` with 80% training and 20% testing."
      ],
      "metadata": {
        "id": "pH7jIZ2SPFee"
      }
    },
    {
      "cell_type": "code",
      "source": [
        "# Create a dataset with Scikit-Learn's make_moons()\n",
        "from sklearn.datasets import make_moons\n",
        "X,y = make_moons(n_samples=1000, random_state=42)"
      ],
      "metadata": {
        "id": "5t4VhPV1PX1X"
      },
      "execution_count": null,
      "outputs": []
    },
    {
      "cell_type": "code",
      "source": [
        "# Turn data into a DataFrame\n",
        "import pandas as pd\n",
        "df = pd.DataFrame({\"X1\": X[:,0], \n",
        "              \"X2\": X[:,1],\n",
        "              \"y\": y\n",
        "              })\n",
        "df.head()"
      ],
      "metadata": {
        "id": "SUeHZ3-3P9C7",
        "colab": {
          "base_uri": "https://localhost:8080/",
          "height": 206
        },
        "outputId": "b03c0630-3b96-470b-c9fa-41c35cc0a0a7"
      },
      "execution_count": null,
      "outputs": [
        {
          "output_type": "execute_result",
          "data": {
            "text/plain": [
              "         X1        X2  y\n",
              "0  0.008727  0.368174  1\n",
              "1  0.921384 -0.496905  1\n",
              "2  0.940226 -0.498212  1\n",
              "3  0.465875 -0.345406  1\n",
              "4 -0.850412  0.526117  0"
            ],
            "text/html": [
              "\n",
              "  <div id=\"df-a48fee60-2f85-4f8a-8c20-359ed14a5cb8\">\n",
              "    <div class=\"colab-df-container\">\n",
              "      <div>\n",
              "<style scoped>\n",
              "    .dataframe tbody tr th:only-of-type {\n",
              "        vertical-align: middle;\n",
              "    }\n",
              "\n",
              "    .dataframe tbody tr th {\n",
              "        vertical-align: top;\n",
              "    }\n",
              "\n",
              "    .dataframe thead th {\n",
              "        text-align: right;\n",
              "    }\n",
              "</style>\n",
              "<table border=\"1\" class=\"dataframe\">\n",
              "  <thead>\n",
              "    <tr style=\"text-align: right;\">\n",
              "      <th></th>\n",
              "      <th>X1</th>\n",
              "      <th>X2</th>\n",
              "      <th>y</th>\n",
              "    </tr>\n",
              "  </thead>\n",
              "  <tbody>\n",
              "    <tr>\n",
              "      <th>0</th>\n",
              "      <td>0.008727</td>\n",
              "      <td>0.368174</td>\n",
              "      <td>1</td>\n",
              "    </tr>\n",
              "    <tr>\n",
              "      <th>1</th>\n",
              "      <td>0.921384</td>\n",
              "      <td>-0.496905</td>\n",
              "      <td>1</td>\n",
              "    </tr>\n",
              "    <tr>\n",
              "      <th>2</th>\n",
              "      <td>0.940226</td>\n",
              "      <td>-0.498212</td>\n",
              "      <td>1</td>\n",
              "    </tr>\n",
              "    <tr>\n",
              "      <th>3</th>\n",
              "      <td>0.465875</td>\n",
              "      <td>-0.345406</td>\n",
              "      <td>1</td>\n",
              "    </tr>\n",
              "    <tr>\n",
              "      <th>4</th>\n",
              "      <td>-0.850412</td>\n",
              "      <td>0.526117</td>\n",
              "      <td>0</td>\n",
              "    </tr>\n",
              "  </tbody>\n",
              "</table>\n",
              "</div>\n",
              "      <button class=\"colab-df-convert\" onclick=\"convertToInteractive('df-a48fee60-2f85-4f8a-8c20-359ed14a5cb8')\"\n",
              "              title=\"Convert this dataframe to an interactive table.\"\n",
              "              style=\"display:none;\">\n",
              "        \n",
              "  <svg xmlns=\"http://www.w3.org/2000/svg\" height=\"24px\"viewBox=\"0 0 24 24\"\n",
              "       width=\"24px\">\n",
              "    <path d=\"M0 0h24v24H0V0z\" fill=\"none\"/>\n",
              "    <path d=\"M18.56 5.44l.94 2.06.94-2.06 2.06-.94-2.06-.94-.94-2.06-.94 2.06-2.06.94zm-11 1L8.5 8.5l.94-2.06 2.06-.94-2.06-.94L8.5 2.5l-.94 2.06-2.06.94zm10 10l.94 2.06.94-2.06 2.06-.94-2.06-.94-.94-2.06-.94 2.06-2.06.94z\"/><path d=\"M17.41 7.96l-1.37-1.37c-.4-.4-.92-.59-1.43-.59-.52 0-1.04.2-1.43.59L10.3 9.45l-7.72 7.72c-.78.78-.78 2.05 0 2.83L4 21.41c.39.39.9.59 1.41.59.51 0 1.02-.2 1.41-.59l7.78-7.78 2.81-2.81c.8-.78.8-2.07 0-2.86zM5.41 20L4 18.59l7.72-7.72 1.47 1.35L5.41 20z\"/>\n",
              "  </svg>\n",
              "      </button>\n",
              "      \n",
              "  <style>\n",
              "    .colab-df-container {\n",
              "      display:flex;\n",
              "      flex-wrap:wrap;\n",
              "      gap: 12px;\n",
              "    }\n",
              "\n",
              "    .colab-df-convert {\n",
              "      background-color: #E8F0FE;\n",
              "      border: none;\n",
              "      border-radius: 50%;\n",
              "      cursor: pointer;\n",
              "      display: none;\n",
              "      fill: #1967D2;\n",
              "      height: 32px;\n",
              "      padding: 0 0 0 0;\n",
              "      width: 32px;\n",
              "    }\n",
              "\n",
              "    .colab-df-convert:hover {\n",
              "      background-color: #E2EBFA;\n",
              "      box-shadow: 0px 1px 2px rgba(60, 64, 67, 0.3), 0px 1px 3px 1px rgba(60, 64, 67, 0.15);\n",
              "      fill: #174EA6;\n",
              "    }\n",
              "\n",
              "    [theme=dark] .colab-df-convert {\n",
              "      background-color: #3B4455;\n",
              "      fill: #D2E3FC;\n",
              "    }\n",
              "\n",
              "    [theme=dark] .colab-df-convert:hover {\n",
              "      background-color: #434B5C;\n",
              "      box-shadow: 0px 1px 3px 1px rgba(0, 0, 0, 0.15);\n",
              "      filter: drop-shadow(0px 1px 2px rgba(0, 0, 0, 0.3));\n",
              "      fill: #FFFFFF;\n",
              "    }\n",
              "  </style>\n",
              "\n",
              "      <script>\n",
              "        const buttonEl =\n",
              "          document.querySelector('#df-a48fee60-2f85-4f8a-8c20-359ed14a5cb8 button.colab-df-convert');\n",
              "        buttonEl.style.display =\n",
              "          google.colab.kernel.accessAllowed ? 'block' : 'none';\n",
              "\n",
              "        async function convertToInteractive(key) {\n",
              "          const element = document.querySelector('#df-a48fee60-2f85-4f8a-8c20-359ed14a5cb8');\n",
              "          const dataTable =\n",
              "            await google.colab.kernel.invokeFunction('convertToInteractive',\n",
              "                                                     [key], {});\n",
              "          if (!dataTable) return;\n",
              "\n",
              "          const docLinkHtml = 'Like what you see? Visit the ' +\n",
              "            '<a target=\"_blank\" href=https://colab.research.google.com/notebooks/data_table.ipynb>data table notebook</a>'\n",
              "            + ' to learn more about interactive tables.';\n",
              "          element.innerHTML = '';\n",
              "          dataTable['output_type'] = 'display_data';\n",
              "          await google.colab.output.renderOutput(dataTable, element);\n",
              "          const docLink = document.createElement('div');\n",
              "          docLink.innerHTML = docLinkHtml;\n",
              "          element.appendChild(docLink);\n",
              "        }\n",
              "      </script>\n",
              "    </div>\n",
              "  </div>\n",
              "  "
            ]
          },
          "metadata": {},
          "execution_count": 210
        }
      ]
    },
    {
      "cell_type": "code",
      "source": [
        "# Visualize the data on a scatter plot\n",
        "import matplotlib.pyplot as plt\n",
        "plt.scatter(X[:,0], X[:,1], c=y, cmap=plt.cm.cool)"
      ],
      "metadata": {
        "id": "owrkPSFvQPFI",
        "colab": {
          "base_uri": "https://localhost:8080/",
          "height": 283
        },
        "outputId": "062aec43-4984-4dff-dbbb-b74fedab0ca8"
      },
      "execution_count": null,
      "outputs": [
        {
          "output_type": "execute_result",
          "data": {
            "text/plain": [
              "<matplotlib.collections.PathCollection at 0x7f6e1228ff10>"
            ]
          },
          "metadata": {},
          "execution_count": 211
        },
        {
          "output_type": "display_data",
          "data": {
            "text/plain": [
              "<Figure size 432x288 with 1 Axes>"
            ],
            "image/png": "[encoded data removed]"
          },
          "metadata": {
            "needs_background": "light"
          }
        }
      ]
    },
    {
      "cell_type": "code",
      "source": [
        "# Turn data into tensors of dtype float\n",
        "X = torch.tensor(X).type(torch.float)\n",
        "y = torch.tensor(y).type(torch.float).unsqueeze(1)\n",
        "\n",
        "\n",
        "# Split the data into train and test sets (80% train, 20% test)\n",
        "from sklearn.model_selection import train_test_split\n",
        "X_train, X_test, y_train, y_test = train_test_split(X,y, test_size=0.2, random_state=RANDOM_SEED)"
      ],
      "metadata": {
        "id": "bDhyHn9fR4dq"
      },
      "execution_count": null,
      "outputs": []
    },
    {
      "cell_type": "markdown",
      "source": [
        "## 2. Build a model by subclassing `nn.Module` that incorporates non-linear activation functions and is capable of fitting the data you created in 1.\n",
        "  * Feel free to use any combination of PyTorch layers (linear and non-linear) you want."
      ],
      "metadata": {
        "id": "cMIjxZdzQfPz"
      }
    },
    {
      "cell_type": "code",
      "source": [
        "from torch.nn.modules.activation import ReLU\n",
        "import torch\n",
        "from torch import nn\n",
        "\n",
        "# Inherit from nn.Module to make a model capable of fitting the mooon data\n",
        "class MoonModelV0(nn.Module):\n",
        "  ## Your code here ##\n",
        "  def __init__(self, input_features, output_features, hidden_units=8):\n",
        "    super().__init__()\n",
        "    self.layer_stack = torch.nn.Sequential(\n",
        "        torch.nn.Linear(input_features, hidden_units, device=DEVICE),\n",
        "        torch.nn.ReLU(),\n",
        "        torch.nn.Linear(hidden_units, output_features, device=DEVICE),\n",
        "    )\n",
        "\n",
        "  def forward(self, x):\n",
        "      ## Your code here ##\n",
        "      return self.layer_stack(x)\n",
        "\n",
        "# Instantiate the model\n",
        "## Your code here ##\n",
        "moonModel = MoonModelV0(2,1)\n",
        "moonModel.state_dict()"
      ],
      "metadata": {
        "id": "hwtyvm34Ri6Q",
        "colab": {
          "base_uri": "https://localhost:8080/"
        },
        "outputId": "a0e71d89-50ee-4ed1-e382-a18697719234"
      },
      "execution_count": null,
      "outputs": [
        {
          "output_type": "execute_result",
          "data": {
            "text/plain": [
              "OrderedDict([('layer_stack.0.weight', tensor([[ 0.1597, -0.6929],\n",
              "                      [-0.1437, -0.6501],\n",
              "                      [-0.4861, -0.0248],\n",
              "                      [ 0.3341, -0.1330],\n",
              "                      [ 0.0267, -0.3016],\n",
              "                      [-0.3655,  0.5980],\n",
              "                      [ 0.4666, -0.6588],\n",
              "                      [-0.1585, -0.5906]], device='cuda:0')),\n",
              "             ('layer_stack.0.bias',\n",
              "              tensor([ 0.6897, -0.5248,  0.0878,  0.0313,  0.3457,  0.1350,  0.6572,  0.5627],\n",
              "                     device='cuda:0')),\n",
              "             ('layer_stack.2.weight',\n",
              "              tensor([[ 0.2304, -0.2031,  0.1621, -0.1266,  0.1803, -0.2028,  0.3025, -0.2516]],\n",
              "                     device='cuda:0')),\n",
              "             ('layer_stack.2.bias', tensor([0.1624], device='cuda:0'))])"
            ]
          },
          "metadata": {},
          "execution_count": 213
        }
      ]
    },
    {
      "cell_type": "markdown",
      "source": [
        "## 3. Setup a binary classification compatible loss function and optimizer to use when training the model built in 2."
      ],
      "metadata": {
        "id": "DSj97RwyVeFE"
      }
    },
    {
      "cell_type": "code",
      "source": [
        "# Setup loss function\n",
        "loss_fn = torch.nn.BCEWithLogitsLoss()\n",
        "# Setup optimizer to optimize model's parameters\n",
        "optimizer = torch.optim.Adam(params=moonModel.parameters(), lr=0.01)"
      ],
      "metadata": {
        "id": "whSGw5qgVvxU"
      },
      "execution_count": null,
      "outputs": []
    },
    {
      "cell_type": "markdown",
      "source": [
        "## 4. Create a training and testing loop to fit the model you created in 2 to the data you created in 1.\n",
        "  * Do a forward pass of the model to see what's coming out in the form of logits, prediction probabilities and labels.\n",
        "  * To measure model accuray, you can create your own accuracy function or use the accuracy function in [TorchMetrics](https://torchmetrics.readthedocs.io/en/latest/).\n",
        "  * Train the model for long enough for it to reach over 96% accuracy.\n",
        "  * The training loop should output progress every 10 epochs of the model's training and test set loss and accuracy."
      ],
      "metadata": {
        "id": "nvk4PfNTWUAt"
      }
    },
    {
      "cell_type": "code",
      "source": [
        "# What's coming out of our model?\n",
        "\n",
        "# logits (raw outputs of model)\n",
        "print(\"Logits:\")\n",
        "## Your code here ##\n",
        "y_logits = moonModel(X_train.to(DEVICE))\n",
        "print(y_logits[:5])\n",
        "\n",
        "# Prediction probabilities\n",
        "print(\"Pred probs:\")\n",
        "## Your code here ##\n",
        "y_pred_prob = torch.sigmoid(y_logits)\n",
        "print(y_pred_prob[:5])\n",
        "\n",
        "# Prediction labels\n",
        "print(\"Pred labels:\")\n",
        "## Your code here ##\n",
        "y_pred = torch.round(y_pred_prob)\n",
        "print(y_pred[:5]) "
      ],
      "metadata": {
        "colab": {
          "base_uri": "https://localhost:8080/"
        },
        "id": "AgnFdlamd2-D",
        "outputId": "4bee9a95-fc9a-4164-e916-05b8ee7192f6"
      },
      "execution_count": null,
      "outputs": [
        {
          "output_type": "stream",
          "name": "stdout",
          "text": [
            "Logits:\n",
            "tensor([[0.7438],\n",
            "        [0.0825],\n",
            "        [0.0324],\n",
            "        [0.0331],\n",
            "        [0.5736]], device='cuda:0', grad_fn=<SliceBackward0>)\n",
            "Pred probs:\n",
            "tensor([[0.6778],\n",
            "        [0.5206],\n",
            "        [0.5081],\n",
            "        [0.5083],\n",
            "        [0.6396]], device='cuda:0', grad_fn=<SliceBackward0>)\n",
            "Pred labels:\n",
            "tensor([[1.],\n",
            "        [1.],\n",
            "        [1.],\n",
            "        [1.],\n",
            "        [1.]], device='cuda:0', grad_fn=<SliceBackward0>)\n"
          ]
        }
      ]
    },
    {
      "cell_type": "code",
      "source": [
        "# Let's calculuate the accuracy using accuracy from TorchMetrics\n",
        "!pip -q install torchmetrics # Colab doesn't come with torchmetrics\n",
        "from torchmetrics import Accuracy\n",
        "\n",
        "## TODO: Uncomment this code to use the Accuracy function\n",
        "acc_fn = Accuracy(task=\"multiclass\", num_classes=2).to(DEVICE) # send accuracy function to device\n",
        "acc_fn"
      ],
      "metadata": {
        "id": "rUSDNHB4euoJ",
        "colab": {
          "base_uri": "https://localhost:8080/"
        },
        "outputId": "3dd1ff67-6bc2-4038-c078-8d2d66a07d40"
      },
      "execution_count": null,
      "outputs": [
        {
          "output_type": "execute_result",
          "data": {
            "text/plain": [
              "MulticlassAccuracy()"
            ]
          },
          "metadata": {},
          "execution_count": 216
        }
      ]
    },
    {
      "cell_type": "code",
      "source": [
        "y_logits.shape, y_test.shape"
      ],
      "metadata": {
        "colab": {
          "base_uri": "https://localhost:8080/"
        },
        "id": "ZKohMlYCEn2I",
        "outputId": "c6c9e1d4-e6ff-4227-a971-697dff2279b0"
      },
      "execution_count": null,
      "outputs": [
        {
          "output_type": "execute_result",
          "data": {
            "text/plain": [
              "(torch.Size([800, 1]), torch.Size([200, 1]))"
            ]
          },
          "metadata": {},
          "execution_count": 217
        }
      ]
    },
    {
      "cell_type": "code",
      "source": [
        "## TODO: Uncomment this to set the seed\n",
        "torch.manual_seed(RANDOM_SEED)\n",
        "\n",
        "# Setup epochs\n",
        "epochs = 1000\n",
        "\n",
        "# Send data to the device\n",
        "X_train = X_train.to(DEVICE)\n",
        "X_test = X_test.to(DEVICE)\n",
        "y_train = y_train.to(DEVICE)\n",
        "y_test = y_test.to(DEVICE)\n",
        "\n",
        "# Loop through the data\n",
        "for epoch in range(epochs):\n",
        "  ### Training\n",
        "  moonModel.train()\n",
        "\n",
        "  # 1. Forward pass (logits output)\n",
        "  y_logits = moonModel(X_train)\n",
        "  # Turn logits into prediction probabilities\n",
        "  y_pred_prob = torch.sigmoid(y_logits)\n",
        "\n",
        "  # Turn prediction probabilities into prediction labels\n",
        "  y_pred = torch.round(y_pred_prob)\n",
        "\n",
        "  # 2. Calculaute the loss\n",
        "  loss = loss_fn(y_logits, y_train) # loss = compare model raw outputs to desired model outputs\n",
        "\n",
        "  # Calculate the accuracy\n",
        "  # the accuracy function needs to compare pred labels (not logits) with actual labels\n",
        "  acc = acc_fn(y_pred, y_train)\n",
        "  # 3. Zero the gradients\n",
        "  optimizer.zero_grad()\n",
        "  \n",
        "  # 4. Loss backward (perform backpropagation) - https://brilliant.org/wiki/backpropagation/#:~:text=Backpropagation%2C%20short%20for%20%22backward%20propagation,to%20the%20neural%20network's%20weights.\n",
        "  loss.backward()\n",
        "\n",
        "  # 5. Step the optimizer (gradient descent) - https://towardsdatascience.com/gradient-descent-algorithm-a-deep-dive-cf04e8115f21#:~:text=Gradient%20descent%20(GD)%20is%20an,e.g.%20in%20a%20linear%20regression) \n",
        "  optimizer.step()\n",
        "\n",
        "  ### Testing\n",
        "  moonModel.eval() \n",
        "  with torch.inference_mode():\n",
        "    # 1. Forward pass (to get the logits)\n",
        "    y_test_logits = moonModel(X_test)\n",
        "    # Turn the test logits into prediction labels\n",
        "    y_test_pred_prob = torch.sigmoid(y_test_logits)\n",
        "    y_test_pred = torch.round(y_test_pred_prob)\n",
        "\n",
        "    # 2. Caculate the test loss/acc\n",
        "    loss_test = loss_fn(y_test_logits, y_test)\n",
        "    acc_test = acc_fn(y_test_pred, y_test)\n",
        "\n",
        "  # Print out what's happening every 100 epochs\n",
        "  if epoch % 100 == 0:\n",
        "    print(f\"Epoch{epoch}: loss {loss} | loss_test {loss_test} | acc_test {acc_test}\")\n",
        "    "
      ],
      "metadata": {
        "id": "SHBY3h7XXnxt",
        "colab": {
          "base_uri": "https://localhost:8080/"
        },
        "outputId": "f0b8a0fe-ec56-425c-feb0-818686521d60"
      },
      "execution_count": null,
      "outputs": [
        {
          "output_type": "stream",
          "name": "stdout",
          "text": [
            "Epoch0: loss 0.6112520098686218 | loss_test 0.6107286214828491 | acc_test 0.6050000190734863\n",
            "Epoch100: loss 0.23620684444904327 | loss_test 0.24131949245929718 | acc_test 0.8999999761581421\n",
            "Epoch200: loss 0.1361689418554306 | loss_test 0.13369350135326385 | acc_test 0.9350000023841858\n",
            "Epoch300: loss 0.0429418571293354 | loss_test 0.040108971297740936 | acc_test 1.0\n",
            "Epoch400: loss 0.017678605392575264 | loss_test 0.01586742326617241 | acc_test 1.0\n",
            "Epoch500: loss 0.009397653862833977 | loss_test 0.008249256759881973 | acc_test 1.0\n",
            "Epoch600: loss 0.005873820278793573 | loss_test 0.005122356116771698 | acc_test 1.0\n",
            "Epoch700: loss 0.00404325732961297 | loss_test 0.0035233956295996904 | acc_test 1.0\n",
            "Epoch800: loss 0.0029628716874867678 | loss_test 0.002597283571958542 | acc_test 1.0\n",
            "Epoch900: loss 0.002269188640639186 | loss_test 0.0020048352889716625 | acc_test 1.0\n"
          ]
        }
      ]
    },
    {
      "cell_type": "markdown",
      "source": [
        "## 5. Make predictions with your trained model and plot them using the `plot_decision_boundary()` function created in this notebook."
      ],
      "metadata": {
        "id": "8Nwihtomj9JO"
      }
    },
    {
      "cell_type": "code",
      "source": [
        "# Plot the model predictions\n",
        "import numpy as np\n",
        "\n",
        "def plot_decision_boundary(model, X, y):\n",
        "  \n",
        "    # Put everything to CPU (works better with NumPy + Matplotlib)\n",
        "    model.to(\"cpu\")\n",
        "    X, y = X.to(\"cpu\"), y.to(\"cpu\")\n",
        "\n",
        "    # Source - https://madewithml.com/courses/foundations/neural-networks/ \n",
        "    # (with modifications)\n",
        "    x_min, x_max = X[:, 0].min() - 0.1, X[:, 0].max() + 0.1\n",
        "    y_min, y_max = X[:, 1].min() - 0.1, X[:, 1].max() + 0.1\n",
        "    xx, yy = np.meshgrid(np.linspace(x_min, x_max, 101), \n",
        "                         np.linspace(y_min, y_max, 101))\n",
        "\n",
        "    # Make features\n",
        "    X_to_pred_on = torch.from_numpy(np.column_stack((xx.ravel(), yy.ravel()))).float()\n",
        "\n",
        "    # Make predictions\n",
        "    model.eval()\n",
        "    with torch.inference_mode():\n",
        "        y_logits = model(X_to_pred_on)\n",
        "\n",
        "    # Test for multi-class or binary and adjust logits to prediction labels\n",
        "    if len(torch.unique(y)) > 2:\n",
        "        y_pred = torch.softmax(y_logits, dim=1).argmax(dim=1) # mutli-class\n",
        "    else: \n",
        "        y_pred = torch.round(torch.sigmoid(y_logits)) # binary\n",
        "    \n",
        "    # Reshape preds and plot\n",
        "    y_pred = y_pred.reshape(xx.shape).detach().numpy()\n",
        "    plt.contourf(xx, yy, y_pred, cmap=plt.cm.RdYlBu, alpha=0.7)\n",
        "    plt.scatter(X[:, 0], X[:, 1], c=y, s=40, cmap=plt.cm.RdYlBu)\n",
        "    plt.xlim(xx.min(), xx.max())\n",
        "    plt.ylim(yy.min(), yy.max())"
      ],
      "metadata": {
        "id": "0YRzatb8a1P2"
      },
      "execution_count": null,
      "outputs": []
    },
    {
      "cell_type": "code",
      "source": [
        "# Plot decision boundaries for training and test sets\n",
        "plt.figure(figsize=(12, 6))\n",
        "plt.subplot(1, 2, 1)\n",
        "plt.title(\"Train\")\n",
        "plot_decision_boundary(moonModel, X_train, y_train)\n",
        "plt.subplot(1, 2, 2)\n",
        "plt.title(\"Test\")\n",
        "plot_decision_boundary(moonModel, X_test, y_test)"
      ],
      "metadata": {
        "id": "PMrcpyirig1d",
        "colab": {
          "base_uri": "https://localhost:8080/",
          "height": 390
        },
        "outputId": "465c6b37-98e0-4ab0-ed10-02c9df20ff2c"
      },
      "execution_count": null,
      "outputs": [
        {
          "output_type": "display_data",
          "data": {
            "text/plain": [
              "<Figure size 864x432 with 2 Axes>"
            ],
            "image/png": "[encoded data removed]"
          },
          "metadata": {
            "needs_background": "light"
          }
        }
      ]
    },
    {
      "cell_type": "markdown",
      "source": [
        "## 6. Replicate the Tanh (hyperbolic tangent) activation function in pure PyTorch.\n",
        "  * Feel free to reference the [ML cheatsheet website](https://ml-cheatsheet.readthedocs.io/en/latest/activation_functions.html#tanh) for the formula."
      ],
      "metadata": {
        "id": "EtMYBvtciiAU"
      }
    },
    {
      "cell_type": "code",
      "source": [
        "# Create a straight line tensor\n",
        "tensor_A = torch.linspace(0,10,101)\n",
        "tensor_A"
      ],
      "metadata": {
        "id": "BlXaWC5TkEUE",
        "colab": {
          "base_uri": "https://localhost:8080/"
        },
        "outputId": "bd714c67-3961-4417-ccfe-18b42122bffd"
      },
      "execution_count": null,
      "outputs": [
        {
          "output_type": "execute_result",
          "data": {
            "text/plain": [
              "tensor([ 0.0000,  0.1000,  0.2000,  0.3000,  0.4000,  0.5000,  0.6000,  0.7000,\n",
              "         0.8000,  0.9000,  1.0000,  1.1000,  1.2000,  1.3000,  1.4000,  1.5000,\n",
              "         1.6000,  1.7000,  1.8000,  1.9000,  2.0000,  2.1000,  2.2000,  2.3000,\n",
              "         2.4000,  2.5000,  2.6000,  2.7000,  2.8000,  2.9000,  3.0000,  3.1000,\n",
              "         3.2000,  3.3000,  3.4000,  3.5000,  3.6000,  3.7000,  3.8000,  3.9000,\n",
              "         4.0000,  4.1000,  4.2000,  4.3000,  4.4000,  4.5000,  4.6000,  4.7000,\n",
              "         4.8000,  4.9000,  5.0000,  5.1000,  5.2000,  5.3000,  5.4000,  5.5000,\n",
              "         5.6000,  5.7000,  5.8000,  5.9000,  6.0000,  6.1000,  6.2000,  6.3000,\n",
              "         6.4000,  6.5000,  6.6000,  6.7000,  6.8000,  6.9000,  7.0000,  7.1000,\n",
              "         7.2000,  7.3000,  7.4000,  7.5000,  7.6000,  7.7000,  7.8000,  7.9000,\n",
              "         8.0000,  8.1000,  8.2000,  8.3000,  8.4000,  8.5000,  8.6000,  8.7000,\n",
              "         8.8000,  8.9000,  9.0000,  9.1000,  9.2000,  9.3000,  9.4000,  9.5000,\n",
              "         9.6000,  9.7000,  9.8000,  9.9000, 10.0000])"
            ]
          },
          "metadata": {},
          "execution_count": 221
        }
      ]
    },
    {
      "cell_type": "code",
      "source": [
        "# Test torch.tanh() on the tensor and plot it\n",
        "plt.plot(tensor_A, torch.tanh(tensor_A))"
      ],
      "metadata": {
        "id": "vZPCcQmIkZjO",
        "colab": {
          "base_uri": "https://localhost:8080/",
          "height": 283
        },
        "outputId": "3f4b1a63-e0c0-4851-ac5c-4e5eb603564e"
      },
      "execution_count": null,
      "outputs": [
        {
          "output_type": "execute_result",
          "data": {
            "text/plain": [
              "[<matplotlib.lines.Line2D at 0x7f6e122f69a0>]"
            ]
          },
          "metadata": {},
          "execution_count": 222
        },
        {
          "output_type": "display_data",
          "data": {
            "text/plain": [
              "<Figure size 432x288 with 1 Axes>"
            ],
            "image/png": "[encoded data removed]"
          },
          "metadata": {
            "needs_background": "light"
          }
        }
      ]
    },
    {
      "cell_type": "code",
      "source": [
        "# Replicate torch.tanh() and plot it\n",
        "def tanh(x):\n",
        "  # Source - https://ml-cheatsheet.readthedocs.io/en/latest/activation_functions.html#tanh\n",
        "  return (torch.exp(x) - torch.exp(-x)) / (torch.exp(x) + torch.exp(-x))\n",
        "\n",
        "plt.plot(tanh(tensor_A))"
      ],
      "metadata": {
        "id": "J-ne__Kjkdc1",
        "colab": {
          "base_uri": "https://localhost:8080/",
          "height": 283
        },
        "outputId": "23b63a8a-cf34-4547-d6de-4625abf1e2b7"
      },
      "execution_count": null,
      "outputs": [
        {
          "output_type": "execute_result",
          "data": {
            "text/plain": [
              "[<matplotlib.lines.Line2D at 0x7f6e122e3910>]"
            ]
          },
          "metadata": {},
          "execution_count": 223
        },
        {
          "output_type": "display_data",
          "data": {
            "text/plain": [
              "<Figure size 432x288 with 1 Axes>"
            ],
            "image/png": "[encoded data removed]"
          },
          "metadata": {
            "needs_background": "light"
          }
        }
      ]
    },
    {
      "cell_type": "markdown",
      "source": [
        "## 7. Create a multi-class dataset using the [spirals data creation function from CS231n](https://cs231n.github.io/neural-networks-case-study/) (see below for the code).\n",
        "  * Split the data into training and test sets (80% train, 20% test) as well as turn it into PyTorch tensors.\n",
        "  * Construct a model capable of fitting the data (you may need a combination of linear and non-linear layers).\n",
        "  * Build a loss function and optimizer capable of handling multi-class data (optional extension: use the Adam optimizer instead of SGD, you may have to experiment with different values of the learning rate to get it working).\n",
        "  * Make a training and testing loop for the multi-class data and train a model on it to reach over 95% testing accuracy (you can use any accuracy measuring function here that you like) - 1000 epochs should be plenty.\n",
        "  * Plot the decision boundaries on the spirals dataset from your model predictions, the `plot_decision_boundary()` function should work for this dataset too."
      ],
      "metadata": {
        "id": "Lbt1bNcWk5G9"
      }
    },
    {
      "cell_type": "code",
      "source": [
        "# Code for creating a spiral dataset from CS231n\n",
        "import numpy as np\n",
        "import matplotlib.pyplot as plt\n",
        "RANDOM_SEED = 42\n",
        "np.random.seed(RANDOM_SEED)\n",
        "N = 100 # number of points per class\n",
        "D = 2 # dimensionality\n",
        "K = 3 # number of classes\n",
        "X = np.zeros((N*K,D)) # data matrix (each row = single example)\n",
        "y = np.zeros(N*K, dtype='uint8') # class labels\n",
        "for j in range(K):\n",
        "  ix = range(N*j,N*(j+1))\n",
        "  r = np.linspace(0.0,1,N) # radius\n",
        "  t = np.linspace(j*4,(j+1)*4,N) + np.random.randn(N)*0.2 # theta\n",
        "  X[ix] = np.c_[r*np.sin(t), r*np.cos(t)]\n",
        "  y[ix] = j\n",
        "# lets visualize the data\n",
        "plt.scatter(X[:, 0], X[:, 1], c=y, s=40, cmap=plt.cm.RdYlBu)\n",
        "plt.show()"
      ],
      "metadata": {
        "colab": {
          "base_uri": "https://localhost:8080/",
          "height": 265
        },
        "id": "tU-UNZsKlJls",
        "outputId": "33faa446-a965-4e49-e096-46ccd77f00cc"
      },
      "execution_count": null,
      "outputs": [
        {
          "output_type": "display_data",
          "data": {
            "text/plain": [
              "<Figure size 432x288 with 1 Axes>"
            ],
            "image/png": "[encoded data removed]"
          },
          "metadata": {
            "needs_background": "light"
          }
        }
      ]
    },
    {
      "cell_type": "code",
      "source": [
        "# Turn data into tensors\n",
        "import torch\n",
        "X = torch.from_numpy(X).type(torch.float) # features as float32\n",
        "y = torch.from_numpy(y).type(torch.long) # labels need to be of type long\n",
        "\n",
        "# Create train and test splits\n",
        "from sklearn.model_selection import train_test_split\n",
        "X_train, X_test, y_train, y_test = train_test_split(X,y,test_size=0.2,random_state=RANDOM_SEED)\n",
        "\n",
        "# Prepare device agnostic code\n",
        "DEVICE = \"cuda\" if torch.cuda.is_available() else \"cpu\""
      ],
      "metadata": {
        "id": "OWVrmkEyl0VP"
      },
      "execution_count": null,
      "outputs": []
    },
    {
      "cell_type": "code",
      "source": [
        "# Let's calculuate the accuracy for when we fit our model\n",
        "!pip -q install torchmetrics # colab doesn't come with torchmetrics\n",
        "from torchmetrics import Accuracy\n",
        "\n",
        "## TODO: uncomment the two lines below to send the accuracy function to the device\n",
        "acc_fn = Accuracy(task=\"multiclass\", num_classes=4).to(DEVICE)\n",
        "acc_fn"
      ],
      "metadata": {
        "id": "a-v-7f0op0tG",
        "colab": {
          "base_uri": "https://localhost:8080/"
        },
        "outputId": "58d6722e-2e7a-40a8-a7ef-492340a02b19"
      },
      "execution_count": null,
      "outputs": [
        {
          "output_type": "execute_result",
          "data": {
            "text/plain": [
              "MulticlassAccuracy()"
            ]
          },
          "metadata": {},
          "execution_count": 233
        }
      ]
    },
    {
      "cell_type": "code",
      "source": [
        "# Create model by subclassing nn.Module\n",
        "class SpiralModel(torch.nn.Module):\n",
        "  def __init__(self):\n",
        "    super().__init__()\n",
        "    self.layer_stack = torch.nn.Sequential(\n",
        "        torch.nn.Linear(2, 8),\n",
        "        torch.nn.ReLU(),\n",
        "        torch.nn.Linear(8, 8),\n",
        "        torch.nn.ReLU(),\n",
        "        torch.nn.Linear(8, 4),\n",
        "    )\n",
        "  def forward(self, x:torch.Tensor) -> torch.Tensor:\n",
        "    return self.layer_stack(x)\n",
        "\n",
        "# Instantiate model and send it to device\n",
        "spiralModel = SpiralModel().to(DEVICE)\n",
        "spiralModel.state_dict()"
      ],
      "metadata": {
        "id": "DB3u3ldumapf",
        "colab": {
          "base_uri": "https://localhost:8080/"
        },
        "outputId": "4e00b476-688e-4ddc-8c77-d7e1170d2190"
      },
      "execution_count": null,
      "outputs": [
        {
          "output_type": "execute_result",
          "data": {
            "text/plain": [
              "OrderedDict([('layer_stack.0.weight', tensor([[ 0.5406,  0.5869],\n",
              "                      [-0.1657,  0.6496],\n",
              "                      [-0.1549,  0.1427],\n",
              "                      [-0.3443,  0.4153],\n",
              "                      [ 0.6233, -0.5188],\n",
              "                      [ 0.6146,  0.1323],\n",
              "                      [ 0.5224,  0.0958],\n",
              "                      [ 0.3410, -0.0998]], device='cuda:0')),\n",
              "             ('layer_stack.0.bias',\n",
              "              tensor([ 0.5451,  0.1045, -0.3301,  0.1802, -0.3258, -0.0829, -0.2872,  0.4691],\n",
              "                     device='cuda:0')),\n",
              "             ('layer_stack.2.weight',\n",
              "              tensor([[-0.2791, -0.1630, -0.0998, -0.2126,  0.0334, -0.3492,  0.3193, -0.3003],\n",
              "                      [ 0.2730,  0.0588, -0.1148,  0.2185,  0.0551,  0.2857,  0.0387, -0.1115],\n",
              "                      [ 0.0950, -0.0959,  0.1488,  0.3157,  0.2044, -0.1546,  0.2041,  0.0633],\n",
              "                      [ 0.1795, -0.2155, -0.3500, -0.1366, -0.2712,  0.2901,  0.1018,  0.1464],\n",
              "                      [ 0.1118, -0.0062,  0.2767, -0.2512,  0.0223, -0.2413,  0.1090, -0.1218],\n",
              "                      [ 0.1083, -0.0737,  0.2932, -0.2096, -0.2109, -0.2109,  0.3180,  0.1178],\n",
              "                      [ 0.3402, -0.2918, -0.3507, -0.2766, -0.2378,  0.1432,  0.1266,  0.2938],\n",
              "                      [-0.1826, -0.2410,  0.1876, -0.1429,  0.2146, -0.0839,  0.2022, -0.2747]],\n",
              "                     device='cuda:0')),\n",
              "             ('layer_stack.2.bias',\n",
              "              tensor([-0.1784,  0.1078,  0.0747, -0.0901,  0.2107,  0.2403, -0.2564, -0.1888],\n",
              "                     device='cuda:0')),\n",
              "             ('layer_stack.4.weight',\n",
              "              tensor([[ 0.3237, -0.1193, -0.1253, -0.3421, -0.2025,  0.0883, -0.0467, -0.2566],\n",
              "                      [ 0.0083, -0.2415, -0.3000, -0.1947, -0.3094, -0.2251,  0.3534,  0.0668],\n",
              "                      [ 0.1090, -0.3298, -0.2322, -0.1177,  0.0553, -0.3111, -0.1523, -0.2117],\n",
              "                      [ 0.0010, -0.1316, -0.0245, -0.2396, -0.2427, -0.2063, -0.1210, -0.2791]],\n",
              "                     device='cuda:0')),\n",
              "             ('layer_stack.4.bias',\n",
              "              tensor([ 0.2964, -0.0702,  0.3042,  0.1102], device='cuda:0'))])"
            ]
          },
          "metadata": {},
          "execution_count": 234
        }
      ]
    },
    {
      "cell_type": "code",
      "source": [
        "# Setup data to be device agnostic\n",
        "X_train = X_train.to(DEVICE)\n",
        "X_test = X_test.to(DEVICE)\n",
        "y_train = y_train.to(DEVICE)\n",
        "y_test = y_test.to(DEVICE)\n",
        "\n",
        "# Print out first 10 untrained model outputs (forward pass)\n",
        "print(\"Logits:\")\n",
        "## Your code here ##\n",
        "y_logits = spiralModel(X_train)\n",
        "print(y_logits[:5])\n",
        "\n",
        "print(\"Pred probs:\")\n",
        "## Your code here ##\n",
        "y_pred_prob = torch.softmax(y_logits, dim=1) \n",
        "print(y_pred_prob[:5])\n",
        "\n",
        "print(\"Pred labels:\")\n",
        "## Your code here ##\n",
        "y_pred = y_pred_prob.argmax(dim=1)\n",
        "print(y_pred[:5])"
      ],
      "metadata": {
        "colab": {
          "base_uri": "https://localhost:8080/"
        },
        "id": "QE7XWSSunMTS",
        "outputId": "9372dbd5-9723-485b-8507-3e5674057a2e"
      },
      "execution_count": null,
      "outputs": [
        {
          "output_type": "stream",
          "name": "stdout",
          "text": [
            "Logits:\n",
            "tensor([[ 0.2334, -0.2913,  0.1134, -0.0414],\n",
            "        [ 0.2265, -0.2849,  0.1025, -0.0440],\n",
            "        [ 0.2208, -0.3258,  0.0771, -0.0429],\n",
            "        [ 0.0880, -0.3095, -0.1056, -0.1984],\n",
            "        [ 0.1403, -0.3421, -0.0466, -0.1191]], device='cuda:0',\n",
            "       grad_fn=<SliceBackward0>)\n",
            "Pred probs:\n",
            "tensor([[0.3088, 0.1827, 0.2739, 0.2346],\n",
            "        [0.3081, 0.1847, 0.2721, 0.2351],\n",
            "        [0.3112, 0.1802, 0.2696, 0.2391],\n",
            "        [0.3080, 0.2070, 0.2538, 0.2313],\n",
            "        [0.3107, 0.1918, 0.2578, 0.2397]], device='cuda:0',\n",
            "       grad_fn=<SliceBackward0>)\n",
            "Pred labels:\n",
            "tensor([0, 0, 0, 0, 0], device='cuda:0')\n"
          ]
        }
      ]
    },
    {
      "cell_type": "code",
      "source": [
        "# Setup loss function and optimizer\n",
        "loss_fn = torch.nn.CrossEntropyLoss()\n",
        "optimizer = torch.optim.Adam(params=spiralModel.parameters(), lr=0.01)"
      ],
      "metadata": {
        "id": "54EqLRKLo0AW"
      },
      "execution_count": null,
      "outputs": []
    },
    {
      "cell_type": "code",
      "source": [
        "# Build a training loop for the model\n",
        "epochs = 1000\n",
        "\n",
        "# Loop over data\n",
        "for epoch in range(epochs):\n",
        "\n",
        "  ## Training\n",
        "  spiralModel.train()\n",
        "  # 1. Forward pass\n",
        "  y_logits = spiralModel(X_train)\n",
        "\n",
        "  # 2. Calculate the loss\n",
        "  loss = loss_fn(y_logits, y_train)\n",
        "  \n",
        "  # 3. Optimizer zero grad\n",
        "  optimizer.zero_grad()\n",
        "\n",
        "  # 4. Loss backward\n",
        "  loss.backward()\n",
        "\n",
        "  # 5. Optimizer step\n",
        "  optimizer.step()\n",
        "\n",
        "  ## Testing\n",
        "  spiralModel.eval()\n",
        "  with torch.inference_mode():\n",
        "\n",
        "    # 1. Forward pass\n",
        "    y_test_logits = spiralModel(X_test)\n",
        "    y_test_pred = torch.softmax(y_test_logits, dim=1).argmax(dim=1)\n",
        "    # 2. Caculate loss and acc\n",
        "    loss_test = loss_fn(y_test_logits, y_test)\n",
        "    acc = acc_fn(y_test_pred, y_test)\n",
        "\n",
        "  # Print out what's happening every 100 epochs\n",
        "  if epoch % 100 == 0:\n",
        "    print(f\"Epoch{epoch}: loss {loss} | loss_test {loss_test} acc {acc}\")"
      ],
      "metadata": {
        "id": "vIlExkUHnmxi",
        "colab": {
          "base_uri": "https://localhost:8080/"
        },
        "outputId": "440f3355-5a52-4dca-d67b-78ee0b220d0e"
      },
      "execution_count": null,
      "outputs": [
        {
          "output_type": "stream",
          "name": "stdout",
          "text": [
            "Epoch0: loss 1.3945661783218384 | loss_test 1.3437047004699707 acc 0.36666667461395264\n",
            "Epoch100: loss 0.5211647748947144 | loss_test 0.5687353014945984 acc 0.699999988079071\n",
            "Epoch200: loss 0.24623101949691772 | loss_test 0.22743107378482819 acc 0.9333333373069763\n",
            "Epoch300: loss 0.09446602314710617 | loss_test 0.06903619319200516 acc 1.0\n",
            "Epoch400: loss 0.058115020394325256 | loss_test 0.030850809067487717 acc 1.0\n",
            "Epoch500: loss 0.045766230672597885 | loss_test 0.020705847069621086 acc 1.0\n",
            "Epoch600: loss 0.03798319399356842 | loss_test 0.0166019294410944 acc 1.0\n",
            "Epoch700: loss 0.0324690155684948 | loss_test 0.015309520997107029 acc 1.0\n",
            "Epoch800: loss 0.029095236212015152 | loss_test 0.014512508176267147 acc 1.0\n",
            "Epoch900: loss 0.026615291833877563 | loss_test 0.014214296825230122 acc 1.0\n"
          ]
        }
      ]
    },
    {
      "cell_type": "code",
      "source": [
        "# Plot decision boundaries for training and test sets\n",
        "plt.figure(figsize=(12, 6))\n",
        "plt.subplot(1, 2, 1)\n",
        "plt.title(\"Train\")\n",
        "plot_decision_boundary(spiralModel, X_train, y_train)\n",
        "plt.subplot(1, 2, 2)\n",
        "plt.title(\"Test\")\n",
        "plot_decision_boundary(spiralModel, X_test, y_test)"
      ],
      "metadata": {
        "id": "JrwVRbaE0keT",
        "colab": {
          "base_uri": "https://localhost:8080/",
          "height": 390
        },
        "outputId": "8e91a36d-7d10-454b-80b0-79944b64acb6"
      },
      "execution_count": null,
      "outputs": [
        {
          "output_type": "display_data",
          "data": {
            "text/plain": [
              "<Figure size 864x432 with 2 Axes>"
            ],
            "image/png": "[encoded data removed]"
          },
          "metadata": {
            "needs_background": "light"
          }
        }
      ]
    },
    {
      "cell_type": "code",
      "source": [],
      "metadata": {
        "id": "fV1sIJrPnLNu"
      },
      "execution_count": null,
      "outputs": []
    }
  ]
}