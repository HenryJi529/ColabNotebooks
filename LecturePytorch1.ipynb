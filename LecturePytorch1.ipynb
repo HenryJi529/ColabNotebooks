{
  "nbformat": 4,
  "nbformat_minor": 0,
  "metadata": {
    "colab": {
      "provenance": [],
      "authorship_tag": "ABX9TyMzLsVv/Byocwy1ebL+1BiV",
      "include_colab_link": true
    },
    "kernelspec": {
      "name": "python3",
      "display_name": "Python 3"
    },
    "language_info": {
      "name": "python"
    },
    "accelerator": "GPU",
    "gpuClass": "standard"
  },
  "cells": [
    {
      "cell_type": "markdown",
      "metadata": {
        "id": "view-in-github",
        "colab_type": "text"
      },
      "source": [
        "<a href=\"https://colab.research.google.com/github/HenryJi529/ColabNotebooks/blob/main/LecturePytorch1.ipynb\" target=\"_parent\"><img src=\"https://colab.research.google.com/assets/colab-badge.svg\" alt=\"Open In Colab\"/></a>"
      ]
    },
    {
      "cell_type": "code",
      "execution_count": null,
      "metadata": {
        "colab": {
          "base_uri": "https://localhost:8080/",
          "height": 35
        },
        "id": "AWW7z82_04-O",
        "outputId": "d1db4305-aaf0-41e8-d21f-2e05dee9e7f9"
      },
      "outputs": [
        {
          "output_type": "execute_result",
          "data": {
            "text/plain": [
              "'1.13.1+cu116'"
            ],
            "application/vnd.google.colaboratory.intrinsic+json": {
              "type": "string"
            }
          },
          "metadata": {},
          "execution_count": 7
        }
      ],
      "source": [
        "import torch\n",
        "from torch import nn\n",
        "import matplotlib.pyplot as plt\n",
        "\n",
        "torch.__version__"
      ]
    },
    {
      "cell_type": "markdown",
      "source": [
        "## Check GPU"
      ],
      "metadata": {
        "id": "M5tIkZgWSVZ5"
      }
    },
    {
      "cell_type": "code",
      "source": [
        "!nvidia-smi"
      ],
      "metadata": {
        "colab": {
          "base_uri": "https://localhost:8080/"
        },
        "id": "p5UT2fLFStoI",
        "outputId": "f3d3d18e-a30c-4849-ccc9-ef82b7f8a221"
      },
      "execution_count": null,
      "outputs": [
        {
          "output_type": "stream",
          "name": "stdout",
          "text": [
            "Thu Mar 16 12:20:28 2023       \n",
            "+-----------------------------------------------------------------------------+\n",
            "| NVIDIA-SMI 525.85.12    Driver Version: 525.85.12    CUDA Version: 12.0     |\n",
            "|-------------------------------+----------------------+----------------------+\n",
            "| GPU  Name        Persistence-M| Bus-Id        Disp.A | Volatile Uncorr. ECC |\n",
            "| Fan  Temp  Perf  Pwr:Usage/Cap|         Memory-Usage | GPU-Util  Compute M. |\n",
            "|                               |                      |               MIG M. |\n",
            "|===============================+======================+======================|\n",
            "|   0  Tesla T4            Off  | 00000000:00:04.0 Off |                    0 |\n",
            "| N/A   49C    P8    12W /  70W |      3MiB / 15360MiB |      0%      Default |\n",
            "|                               |                      |                  N/A |\n",
            "+-------------------------------+----------------------+----------------------+\n",
            "                                                                               \n",
            "+-----------------------------------------------------------------------------+\n",
            "| Processes:                                                                  |\n",
            "|  GPU   GI   CI        PID   Type   Process name                  GPU Memory |\n",
            "|        ID   ID                                                   Usage      |\n",
            "|=============================================================================|\n",
            "|  No running processes found                                                 |\n",
            "+-----------------------------------------------------------------------------+\n"
          ]
        }
      ]
    },
    {
      "cell_type": "code",
      "source": [
        "device = \"cuda\" if torch.cuda.is_available() else \"cpu\"\n",
        "device"
      ],
      "metadata": {
        "colab": {
          "base_uri": "https://localhost:8080/",
          "height": 35
        },
        "id": "ER9pksa7SUnu",
        "outputId": "d2f4292e-9a09-4751-8b02-98e1e4dc478b"
      },
      "execution_count": null,
      "outputs": [
        {
          "output_type": "execute_result",
          "data": {
            "text/plain": [
              "'cuda'"
            ],
            "application/vnd.google.colaboratory.intrinsic+json": {
              "type": "string"
            }
          },
          "metadata": {},
          "execution_count": 9
        }
      ]
    },
    {
      "cell_type": "markdown",
      "source": [
        "## Data(Preparing and loading)"
      ],
      "metadata": {
        "id": "51rwnYkwD0nP"
      }
    },
    {
      "cell_type": "code",
      "source": [
        "weight = 0.7\n",
        "bias = 0.3\n",
        "\n",
        "start = 0\n",
        "end = 1\n",
        "step = 0.02\n",
        "X = torch.arange(start, end, step).unsqueeze(dim=1).cuda()\n",
        "y = weight * X + bias"
      ],
      "metadata": {
        "id": "lr2NgI0UEj03"
      },
      "execution_count": null,
      "outputs": []
    },
    {
      "cell_type": "markdown",
      "source": [
        "### Split Data"
      ],
      "metadata": {
        "id": "riBDY6E-GldM"
      }
    },
    {
      "cell_type": "code",
      "source": [
        "from sklearn.model_selection import train_test_split\n",
        "X_train, X_, y_train, y_ = train_test_split(X, y, test_size=0.40, random_state=1)\n",
        "X_validate, X_test, y_validate, y_test = train_test_split(X_, y_, test_size=0.50, random_state=1)"
      ],
      "metadata": {
        "id": "pGyx50fu0e-Z"
      },
      "execution_count": null,
      "outputs": []
    },
    {
      "cell_type": "code",
      "source": [
        "with plt.style.context('seaborn-notebook'):\n",
        "  plt.scatter(X_train.cpu().numpy(), y_train.cpu().numpy(), c=\"g\")\n",
        "  plt.scatter(X_test.cpu().numpy(), y_test.cpu().numpy(), c=\"b\")"
      ],
      "metadata": {
        "colab": {
          "base_uri": "https://localhost:8080/",
          "height": 350
        },
        "id": "MPREqFkUIKyZ",
        "outputId": "aaf9eed8-7bc8-4363-dee5-7a06e37d0f49"
      },
      "execution_count": null,
      "outputs": [
        {
          "output_type": "display_data",
          "data": {
            "text/plain": [
              "<Figure size 576x396 with 1 Axes>"
            ],
            "image/png": "[encoded data removed]"
          },
          "metadata": {
            "needs_background": "light"
          }
        }
      ]
    },
    {
      "cell_type": "markdown",
      "source": [
        "## Build model"
      ],
      "metadata": {
        "id": "7cxUSyJCMzk5"
      }
    },
    {
      "cell_type": "code",
      "source": [
        "class LinearRegressionModel(nn.Module):\n",
        "  def __init__(self):\n",
        "    super().__init__()\n",
        "    self.weights = nn.Parameter(torch.randn(1, requires_grad=True, dtype=torch.float, device='cuda'))\n",
        "    self.bias = nn.Parameter(torch.randn(1, requires_grad=True, dtype=torch.float, device='cuda'))\n",
        "  def forward(self, x:torch.Tensor) -> torch.Tensor :\n",
        "    return self.weights * x + self.bias\n"
      ],
      "metadata": {
        "id": "lax52-oMP_im"
      },
      "execution_count": null,
      "outputs": []
    },
    {
      "cell_type": "markdown",
      "source": [
        "### Check Model"
      ],
      "metadata": {
        "id": "jZxtr671TMCe"
      }
    },
    {
      "cell_type": "code",
      "source": [
        "torch.manual_seed(42)\n",
        "model0 = LinearRegressionModel()\n",
        "model0"
      ],
      "metadata": {
        "colab": {
          "base_uri": "https://localhost:8080/"
        },
        "id": "j7Y0-KR0xB9D",
        "outputId": "4437368b-417a-43e6-be3e-102bc91eb1e1"
      },
      "execution_count": null,
      "outputs": [
        {
          "output_type": "execute_result",
          "data": {
            "text/plain": [
              "LinearRegressionModel()"
            ]
          },
          "metadata": {},
          "execution_count": 15
        }
      ]
    },
    {
      "cell_type": "code",
      "source": [
        "list(model0.parameters())"
      ],
      "metadata": {
        "colab": {
          "base_uri": "https://localhost:8080/"
        },
        "id": "Oz43ffjdzDHC",
        "outputId": "2cad700d-db43-41df-e505-e37c34618cd8"
      },
      "execution_count": null,
      "outputs": [
        {
          "output_type": "execute_result",
          "data": {
            "text/plain": [
              "[Parameter containing:\n",
              " tensor([0.1940], device='cuda:0', requires_grad=True), Parameter containing:\n",
              " tensor([0.1391], device='cuda:0', requires_grad=True)]"
            ]
          },
          "metadata": {},
          "execution_count": 16
        }
      ]
    },
    {
      "cell_type": "code",
      "source": [
        "model0.state_dict()"
      ],
      "metadata": {
        "colab": {
          "base_uri": "https://localhost:8080/"
        },
        "id": "usaKv0JPxnip",
        "outputId": "fe1e6e56-268b-452e-a999-8f2699f976a9"
      },
      "execution_count": null,
      "outputs": [
        {
          "output_type": "execute_result",
          "data": {
            "text/plain": [
              "OrderedDict([('weights', tensor([0.1940], device='cuda:0')),\n",
              "             ('bias', tensor([0.1391], device='cuda:0'))])"
            ]
          },
          "metadata": {},
          "execution_count": 17
        }
      ]
    },
    {
      "cell_type": "markdown",
      "source": [
        "## Train Model"
      ],
      "metadata": {
        "id": "6MHqJdOa0OMI"
      }
    },
    {
      "cell_type": "code",
      "source": [
        "list(model0.parameters())"
      ],
      "metadata": {
        "colab": {
          "base_uri": "https://localhost:8080/"
        },
        "id": "iHMzqtSNz91c",
        "outputId": "37791b2c-9edd-49e5-97c1-2afed6e80c3a"
      },
      "execution_count": null,
      "outputs": [
        {
          "output_type": "execute_result",
          "data": {
            "text/plain": [
              "[Parameter containing:\n",
              " tensor([0.1940], device='cuda:0', requires_grad=True), Parameter containing:\n",
              " tensor([0.1391], device='cuda:0', requires_grad=True)]"
            ]
          },
          "metadata": {},
          "execution_count": 18
        }
      ]
    },
    {
      "cell_type": "code",
      "source": [
        "model0.state_dict()"
      ],
      "metadata": {
        "colab": {
          "base_uri": "https://localhost:8080/"
        },
        "id": "7j1Q1ule9R8N",
        "outputId": "35286c96-92b9-467e-8af6-ba0c0e3a45e9"
      },
      "execution_count": null,
      "outputs": [
        {
          "output_type": "execute_result",
          "data": {
            "text/plain": [
              "OrderedDict([('weights', tensor([0.1940], device='cuda:0')),\n",
              "             ('bias', tensor([0.1391], device='cuda:0'))])"
            ]
          },
          "metadata": {},
          "execution_count": 19
        }
      ]
    },
    {
      "cell_type": "markdown",
      "source": [
        "### Building a training loop"
      ],
      "metadata": {
        "id": "fFaNA_CdA3nU"
      }
    },
    {
      "cell_type": "code",
      "source": [
        "Loss = nn.L1Loss()\n",
        "optimizer = torch.optim.SGD(params=model0.parameters(), lr=0.01)\n",
        "\n",
        "epochs = 200\n",
        "epoch_count = []\n",
        "train_loss_values = []\n",
        "validate_loss_values = []\n",
        "\n",
        "for epoch in range(epochs):\n",
        "  # set model to training mode\n",
        "  model0.train()\n",
        "\n",
        "  # forward\n",
        "  y_pred = model0(X_train)\n",
        "  # calculate loss\n",
        "  loss = Loss(y_pred, y_train)\n",
        "  # optimizer zero grad\n",
        "  optimizer.zero_grad()\n",
        "  # backward\n",
        "  loss.backward()\n",
        "  # step\n",
        "  optimizer.step()\n",
        "\n",
        "  model0.eval() # 关闭只有训练模式才需要的一些配置\n",
        "  with torch.inference_mode(): # 关闭梯度追踪\n",
        "    y_validate_pred = model0(X_validate)\n",
        "    validate_loss = Loss(y_validate_pred, y_validate)\n",
        "    if epoch % 10 == 0:\n",
        "      epoch_count.append(epoch)\n",
        "      train_loss_values.append(loss.cpu().numpy())\n",
        "      validate_loss_values.append(validate_loss.cpu().numpy())\n",
        "      print(f\"Epoch: {epoch} | Train Loss: {loss:.6f} | Validate Loss: {validate_loss:.6f}\")\n",
        "      print(model0.state_dict())\n",
        "      print()"
      ],
      "metadata": {
        "colab": {
          "base_uri": "https://localhost:8080/"
        },
        "id": "WVAxbSSDDRGP",
        "outputId": "00b5c07d-248e-4554-cd9f-40164f7e5625"
      },
      "execution_count": null,
      "outputs": [
        {
          "output_type": "stream",
          "name": "stdout",
          "text": [
            "Epoch: 0 | Train Loss: 0.372363 | Validate Loss: 0.431871\n",
            "OrderedDict([('weights', tensor([0.1982], device='cuda:0')), ('bias', tensor([0.1491], device='cuda:0'))])\n",
            "\n",
            "Epoch: 10 | Train Loss: 0.254890 | Validate Loss: 0.308463\n",
            "OrderedDict([('weights', tensor([0.2400], device='cuda:0')), ('bias', tensor([0.2491], device='cuda:0'))])\n",
            "\n",
            "Epoch: 20 | Train Loss: 0.145646 | Validate Loss: 0.194723\n",
            "OrderedDict([('weights', tensor([0.2817], device='cuda:0')), ('bias', tensor([0.3431], device='cuda:0'))])\n",
            "\n",
            "Epoch: 30 | Train Loss: 0.099119 | Validate Loss: 0.133365\n",
            "OrderedDict([('weights', tensor([0.3187], device='cuda:0')), ('bias', tensor([0.3945], device='cuda:0'))])\n",
            "\n",
            "Epoch: 40 | Train Loss: 0.084730 | Validate Loss: 0.105480\n",
            "OrderedDict([('weights', tensor([0.3489], device='cuda:0')), ('bias', tensor([0.4145], device='cuda:0'))])\n",
            "\n",
            "Epoch: 50 | Train Loss: 0.078256 | Validate Loss: 0.091626\n",
            "OrderedDict([('weights', tensor([0.3736], device='cuda:0')), ('bias', tensor([0.4171], device='cuda:0'))])\n",
            "\n",
            "Epoch: 60 | Train Loss: 0.073136 | Validate Loss: 0.084492\n",
            "OrderedDict([('weights', tensor([0.3952], device='cuda:0')), ('bias', tensor([0.4111], device='cuda:0'))])\n",
            "\n",
            "Epoch: 70 | Train Loss: 0.068112 | Validate Loss: 0.077878\n",
            "OrderedDict([('weights', tensor([0.4166], device='cuda:0')), ('bias', tensor([0.4045], device='cuda:0'))])\n",
            "\n",
            "Epoch: 80 | Train Loss: 0.063088 | Validate Loss: 0.071264\n",
            "OrderedDict([('weights', tensor([0.4380], device='cuda:0')), ('bias', tensor([0.3978], device='cuda:0'))])\n",
            "\n",
            "Epoch: 90 | Train Loss: 0.058064 | Validate Loss: 0.064650\n",
            "OrderedDict([('weights', tensor([0.4594], device='cuda:0')), ('bias', tensor([0.3911], device='cuda:0'))])\n",
            "\n",
            "Epoch: 100 | Train Loss: 0.053040 | Validate Loss: 0.058035\n",
            "OrderedDict([('weights', tensor([0.4808], device='cuda:0')), ('bias', tensor([0.3845], device='cuda:0'))])\n",
            "\n",
            "Epoch: 110 | Train Loss: 0.048016 | Validate Loss: 0.051421\n",
            "OrderedDict([('weights', tensor([0.5022], device='cuda:0')), ('bias', tensor([0.3778], device='cuda:0'))])\n",
            "\n",
            "Epoch: 120 | Train Loss: 0.043005 | Validate Loss: 0.045339\n",
            "OrderedDict([('weights', tensor([0.5233], device='cuda:0')), ('bias', tensor([0.3705], device='cuda:0'))])\n",
            "\n",
            "Epoch: 130 | Train Loss: 0.038006 | Validate Loss: 0.039789\n",
            "OrderedDict([('weights', tensor([0.5442], device='cuda:0')), ('bias', tensor([0.3625], device='cuda:0'))])\n",
            "\n",
            "Epoch: 140 | Train Loss: 0.033020 | Validate Loss: 0.034772\n",
            "OrderedDict([('weights', tensor([0.5648], device='cuda:0')), ('bias', tensor([0.3538], device='cuda:0'))])\n",
            "\n",
            "Epoch: 150 | Train Loss: 0.028021 | Validate Loss: 0.029222\n",
            "OrderedDict([('weights', tensor([0.5857], device='cuda:0')), ('bias', tensor([0.3458], device='cuda:0'))])\n",
            "\n",
            "Epoch: 160 | Train Loss: 0.023035 | Validate Loss: 0.024205\n",
            "OrderedDict([('weights', tensor([0.6063], device='cuda:0')), ('bias', tensor([0.3371], device='cuda:0'))])\n",
            "\n",
            "Epoch: 170 | Train Loss: 0.018036 | Validate Loss: 0.018655\n",
            "OrderedDict([('weights', tensor([0.6271], device='cuda:0')), ('bias', tensor([0.3291], device='cuda:0'))])\n",
            "\n",
            "Epoch: 180 | Train Loss: 0.013047 | Validate Loss: 0.013637\n",
            "OrderedDict([('weights', tensor([0.6477], device='cuda:0')), ('bias', tensor([0.3205], device='cuda:0'))])\n",
            "\n",
            "Epoch: 190 | Train Loss: 0.008051 | Validate Loss: 0.008088\n",
            "OrderedDict([('weights', tensor([0.6686], device='cuda:0')), ('bias', tensor([0.3125], device='cuda:0'))])\n",
            "\n"
          ]
        }
      ]
    },
    {
      "cell_type": "code",
      "source": [
        "with plt.style.context('ggplot'):\n",
        "  plt.plot(epoch_count, train_loss_values, c='g')\n",
        "  plt.plot(epoch_count, validate_loss_values, c='b')"
      ],
      "metadata": {
        "colab": {
          "base_uri": "https://localhost:8080/",
          "height": 265
        },
        "id": "raMX4w5w4Fhh",
        "outputId": "95c8aeb4-002b-4994-fa73-fd411bdd70d7"
      },
      "execution_count": null,
      "outputs": [
        {
          "output_type": "display_data",
          "data": {
            "text/plain": [
              "<Figure size 432x288 with 1 Axes>"
            ],
            "image/png": "[encoded data removed]"
          },
          "metadata": {}
        }
      ]
    },
    {
      "cell_type": "code",
      "source": [
        "with torch.inference_mode(): # 关闭梯度追踪\n",
        "  y_pred = model0(X_test)\n",
        "  print(loss)"
      ],
      "metadata": {
        "colab": {
          "base_uri": "https://localhost:8080/"
        },
        "id": "qc8oIoEMyieb",
        "outputId": "40889ef3-d728-447f-93af-2d3a3fe56c8d"
      },
      "execution_count": null,
      "outputs": [
        {
          "output_type": "stream",
          "name": "stdout",
          "text": [
            "tensor(0.0036, device='cuda:0', grad_fn=<MeanBackward0>)\n"
          ]
        }
      ]
    },
    {
      "cell_type": "code",
      "source": [
        "with plt.style.context('seaborn-notebook'):\n",
        "  plt.scatter(X_train.cpu().numpy(), y_train.cpu().numpy(), c=\"g\")\n",
        "  plt.scatter(X_test.cpu().numpy(), y_test.cpu().numpy(), c=\"b\")\n",
        "  plt.scatter(X_test.cpu().numpy(), y_pred.cpu().numpy(), c=\"r\")"
      ],
      "metadata": {
        "colab": {
          "base_uri": "https://localhost:8080/",
          "height": 350
        },
        "id": "VJjuX2hUyaYG",
        "outputId": "e2564987-4422-430d-a2b4-d3a07d38ce95"
      },
      "execution_count": null,
      "outputs": [
        {
          "output_type": "display_data",
          "data": {
            "text/plain": [
              "<Figure size 576x396 with 1 Axes>"
            ],
            "image/png": "[encoded data removed]"
          },
          "metadata": {
            "needs_background": "light"
          }
        }
      ]
    },
    {
      "cell_type": "code",
      "source": [
        "import torch\n",
        "\n",
        "# 创建一个简单的线性模型 y = wx + b\n",
        "w = torch.tensor([2.0], requires_grad=True)\n",
        "b = torch.tensor([1.0], requires_grad=True)\n",
        "\n",
        "# 定义输入和目标\n",
        "x = torch.tensor([1.0])\n",
        "y = torch.tensor([5.0])\n",
        "\n",
        "# 定义优化器和损失函数\n",
        "optimizer = torch.optim.SGD([w, b], lr=0.01)\n",
        "loss_fn = torch.nn.MSELoss()\n",
        "\n",
        "# 前向传播\n",
        "y_pred = w * x + b\n",
        "\n",
        "# 计算损失\n",
        "loss = loss_fn(y_pred, y)\n",
        "print(y_pred)\n",
        "# 计算梯度 \n",
        "loss.backward()\n",
        "\n",
        "# 查看梯度\n",
        "print(w.grad)  # tensor([8.])\n",
        "print(b.grad)  # tensor([2.])\n",
        "\n",
        "# 更新参数\n",
        "optimizer.step()\n",
        "\n",
        "# 清空梯度\n",
        "optimizer.zero_grad()\n"
      ],
      "metadata": {
        "colab": {
          "base_uri": "https://localhost:8080/"
        },
        "id": "VORessiFp80v",
        "outputId": "cb98a183-9a43-426f-849a-3aa496fba0f4"
      },
      "execution_count": null,
      "outputs": [
        {
          "output_type": "stream",
          "name": "stdout",
          "text": [
            "tensor([3.], grad_fn=<AddBackward0>)\n",
            "tensor([-4.])\n",
            "tensor([-4.])\n"
          ]
        }
      ]
    },
    {
      "cell_type": "markdown",
      "source": [
        "## Save and Load Model\n",
        "\n",
        "- `touch.save`\n",
        "- `torch.load`\n",
        "- `torch.nn.Module.load_state_dict`"
      ],
      "metadata": {
        "id": "NaPr_Q1nu4YX"
      }
    },
    {
      "cell_type": "code",
      "source": [
        "from pathlib import Path\n",
        "\n",
        "MODEL_PATH = Path(\"models\")\n",
        "MODEL_PATH.mkdir(parents=True, exist_ok=True)\n",
        "\n",
        "MODEL_NAME = 'model0.pth'\n",
        "MODEL_SAVE_PATH =  MODEL_PATH / MODEL_NAME\n",
        "\n",
        "torch.save(obj=model0.state_dict(), f=MODEL_SAVE_PATH)\n",
        "print(f\"save model to {MODEL_SAVE_PATH}\")"
      ],
      "metadata": {
        "colab": {
          "base_uri": "https://localhost:8080/"
        },
        "id": "5CQUkLODp2Ok",
        "outputId": "179da35f-0bbe-4dd9-cdb7-12f6e30acfac"
      },
      "execution_count": null,
      "outputs": [
        {
          "output_type": "stream",
          "name": "stdout",
          "text": [
            "save model to models/model0.pth\n"
          ]
        }
      ]
    },
    {
      "cell_type": "code",
      "source": [
        "model0.state_dict()"
      ],
      "metadata": {
        "colab": {
          "base_uri": "https://localhost:8080/"
        },
        "id": "qZzLhtm4pfnZ",
        "outputId": "4def22c0-f652-4ed3-8377-6c792c5ffa3f"
      },
      "execution_count": null,
      "outputs": [
        {
          "output_type": "execute_result",
          "data": {
            "text/plain": [
              "OrderedDict([('weights', tensor([0.6873], device='cuda:0')),\n",
              "             ('bias', tensor([0.3051], device='cuda:0'))])"
            ]
          },
          "metadata": {},
          "execution_count": 26
        }
      ]
    },
    {
      "cell_type": "markdown",
      "source": [
        "```python\n",
        "from google.colab import drive\n",
        "drive.mount('/content/gdrive/', force_remount=True)\n",
        "%cd gdrive/MyDrive\n",
        "%ls\n",
        "```"
      ],
      "metadata": {
        "id": "JeXPrhU7pyiI"
      }
    },
    {
      "cell_type": "code",
      "source": [
        "model0.state_dict()"
      ],
      "metadata": {
        "colab": {
          "base_uri": "https://localhost:8080/"
        },
        "id": "UbcObhYK1X4z",
        "outputId": "828a64c4-ece1-4946-9048-d4fffa54b51e"
      },
      "execution_count": null,
      "outputs": [
        {
          "output_type": "execute_result",
          "data": {
            "text/plain": [
              "OrderedDict([('weights', tensor([0.6873], device='cuda:0')),\n",
              "             ('bias', tensor([0.3051], device='cuda:0'))])"
            ]
          },
          "metadata": {},
          "execution_count": 27
        }
      ]
    },
    {
      "cell_type": "code",
      "source": [
        "model1 = LinearRegressionModel()\n",
        "model1.state_dict()"
      ],
      "metadata": {
        "colab": {
          "base_uri": "https://localhost:8080/"
        },
        "id": "uJ1FjFSQ1gem",
        "outputId": "66bf660b-a629-4f92-a742-36c284cd1620"
      },
      "execution_count": null,
      "outputs": [
        {
          "output_type": "execute_result",
          "data": {
            "text/plain": [
              "OrderedDict([('weights', tensor([-0.5187], device='cuda:0')),\n",
              "             ('bias', tensor([-0.6974], device='cuda:0'))])"
            ]
          },
          "metadata": {},
          "execution_count": 28
        }
      ]
    },
    {
      "cell_type": "code",
      "source": [
        "state_dict = torch.load(f=MODEL_SAVE_PATH)"
      ],
      "metadata": {
        "id": "ygx9m3G-2Dcc"
      },
      "execution_count": null,
      "outputs": []
    },
    {
      "cell_type": "code",
      "source": [
        "model1.load_state_dict(state_dict)"
      ],
      "metadata": {
        "colab": {
          "base_uri": "https://localhost:8080/"
        },
        "id": "UPuB839T1mdY",
        "outputId": "a0662576-aee3-4d29-e9cc-fd25def65ec1"
      },
      "execution_count": null,
      "outputs": [
        {
          "output_type": "execute_result",
          "data": {
            "text/plain": [
              "<All keys matched successfully>"
            ]
          },
          "metadata": {},
          "execution_count": 30
        }
      ]
    },
    {
      "cell_type": "code",
      "source": [
        "with torch.inference_mode():\n",
        "  y_pred = model1(X_test)\n",
        "with plt.style.context('seaborn-notebook'):\n",
        "  plt.scatter(X_train.cpu().numpy(), y_train.cpu().numpy(), c=\"g\")\n",
        "  plt.scatter(X_test.cpu().numpy(), y_test.cpu().numpy(), c=\"b\")\n",
        "  plt.scatter(X_test.cpu().numpy(), y_pred.cpu().numpy(), c=\"r\")"
      ],
      "metadata": {
        "colab": {
          "base_uri": "https://localhost:8080/",
          "height": 350
        },
        "id": "eC1N9Nby1pe_",
        "outputId": "ec438859-d9b9-491d-93d6-2f48e3f288ea"
      },
      "execution_count": null,
      "outputs": [
        {
          "output_type": "display_data",
          "data": {
            "text/plain": [
              "<Figure size 576x396 with 1 Axes>"
            ],
            "image/png": "[encoded data removed]"
          },
          "metadata": {
            "needs_background": "light"
          }
        }
      ]
    },
    {
      "cell_type": "markdown",
      "source": [
        "## Practice"
      ],
      "metadata": {
        "id": "ZTQFs2WK2j4O"
      }
    },
    {
      "cell_type": "code",
      "source": [
        "class LinearRegressionModelV2(nn.Module):\n",
        "  def __init__(self):\n",
        "    super().__init__()\n",
        "    self.linear_layer = nn.Linear(in_features=1, out_features=1, device=\"cuda\")\n",
        "  def forward(self, x:torch.Tensor) -> torch.Tensor:\n",
        "    return self.linear_layer(x)"
      ],
      "metadata": {
        "id": "YSDR6aNwXc2X"
      },
      "execution_count": null,
      "outputs": []
    },
    {
      "cell_type": "code",
      "source": [
        "torch.manual_seed(42)\n",
        "model2 = LinearRegressionModelV2()\n",
        "model1, model2.state_dict()"
      ],
      "metadata": {
        "colab": {
          "base_uri": "https://localhost:8080/"
        },
        "id": "IG7h7Q0JXdsB",
        "outputId": "132d6a26-e9c0-4c0d-c6f9-4d2a43ccef33"
      },
      "execution_count": null,
      "outputs": [
        {
          "output_type": "execute_result",
          "data": {
            "text/plain": [
              "(LinearRegressionModel(),\n",
              " OrderedDict([('linear_layer.weight', tensor([[0.2259]], device='cuda:0')),\n",
              "              ('linear_layer.bias', tensor([0.9754], device='cuda:0'))]))"
            ]
          },
          "metadata": {},
          "execution_count": 37
        }
      ]
    },
    {
      "cell_type": "code",
      "source": [
        "torch.manual_seed(42)\n",
        "Loss = nn.L1Loss()\n",
        "optimizer = torch.optim.SGD(params=model2.parameters(), lr=0.01)\n",
        "\n",
        "epochs = 200\n",
        "epoch_count = []\n",
        "train_loss_values = []\n",
        "validate_loss_values = []\n",
        "\n",
        "for epoch in range(epochs):\n",
        "  # set model to training mode\n",
        "  model2.train()\n",
        "\n",
        "  # forward\n",
        "  y_pred = model2(X_train)\n",
        "  # calculate loss\n",
        "  loss = Loss(y_pred, y_train)\n",
        "  # optimizer zero grad\n",
        "  optimizer.zero_grad()\n",
        "  # backward\n",
        "  loss.backward()\n",
        "  # step\n",
        "  optimizer.step()\n",
        "\n",
        "  ## testing\n",
        "  model2.eval() # 关闭只有训练模式才需要的一些配置\n",
        "  with torch.inference_mode(): # 关闭梯度追踪\n",
        "    y_validate_pred = model2(X_validate)\n",
        "    validate_loss = Loss(y_validate_pred, y_validate)\n",
        "    if epoch % 10 == 0:\n",
        "      epoch_count.append(epoch)\n",
        "      train_loss_values.append(loss.cpu().numpy())\n",
        "      validate_loss_values.append(validate_loss.cpu().numpy())\n",
        "      print(f\"Epoch: {epoch} | Train Loss: {loss:.6f} | Validate Loss: {validate_loss:.6f}\")\n",
        "      print(model2.state_dict())\n",
        "      print()"
      ],
      "metadata": {
        "colab": {
          "base_uri": "https://localhost:8080/"
        },
        "id": "tk4dSfiwbhz4",
        "outputId": "cc6b85af-b73d-44ea-81e0-ddecc5513234"
      },
      "execution_count": null,
      "outputs": [
        {
          "output_type": "stream",
          "name": "stdout",
          "text": [
            "Epoch: 0 | Train Loss: 0.477272 | Validate Loss: 0.397612\n",
            "OrderedDict([('linear_layer.weight', tensor([[0.2217]], device='cuda:0')), ('linear_layer.bias', tensor([0.9654], device='cuda:0'))])\n",
            "\n",
            "Epoch: 10 | Train Loss: 0.359799 | Validate Loss: 0.274204\n",
            "OrderedDict([('linear_layer.weight', tensor([[0.1799]], device='cuda:0')), ('linear_layer.bias', tensor([0.8654], device='cuda:0'))])\n",
            "\n",
            "Epoch: 20 | Train Loss: 0.251086 | Validate Loss: 0.166438\n",
            "OrderedDict([('linear_layer.weight', tensor([[0.1424]], device='cuda:0')), ('linear_layer.bias', tensor([0.7701], device='cuda:0'))])\n",
            "\n",
            "Epoch: 30 | Train Loss: 0.202769 | Validate Loss: 0.133140\n",
            "OrderedDict([('linear_layer.weight', tensor([[0.1299]], device='cuda:0')), ('linear_layer.bias', tensor([0.7034], device='cuda:0'))])\n",
            "\n",
            "Epoch: 40 | Train Loss: 0.174196 | Validate Loss: 0.123617\n",
            "OrderedDict([('linear_layer.weight', tensor([[0.1277]], device='cuda:0')), ('linear_layer.bias', tensor([0.6514], device='cuda:0'))])\n",
            "\n",
            "Epoch: 50 | Train Loss: 0.156789 | Validate Loss: 0.122462\n",
            "OrderedDict([('linear_layer.weight', tensor([[0.1330]], device='cuda:0')), ('linear_layer.bias', tensor([0.6114], device='cuda:0'))])\n",
            "\n",
            "Epoch: 60 | Train Loss: 0.144843 | Validate Loss: 0.125113\n",
            "OrderedDict([('linear_layer.weight', tensor([[0.1422]], device='cuda:0')), ('linear_layer.bias', tensor([0.5781], device='cuda:0'))])\n",
            "\n",
            "Epoch: 70 | Train Loss: 0.136705 | Validate Loss: 0.125459\n",
            "OrderedDict([('linear_layer.weight', tensor([[0.1559]], device='cuda:0')), ('linear_layer.bias', tensor([0.5541], device='cuda:0'))])\n",
            "\n",
            "Epoch: 80 | Train Loss: 0.130951 | Validate Loss: 0.122754\n",
            "OrderedDict([('linear_layer.weight', tensor([[0.1737]], device='cuda:0')), ('linear_layer.bias', tensor([0.5388], device='cuda:0'))])\n",
            "\n",
            "Epoch: 90 | Train Loss: 0.125664 | Validate Loss: 0.119351\n",
            "OrderedDict([('linear_layer.weight', tensor([[0.1925]], device='cuda:0')), ('linear_layer.bias', tensor([0.5254], device='cuda:0'))])\n",
            "\n",
            "Epoch: 100 | Train Loss: 0.120377 | Validate Loss: 0.116541\n",
            "OrderedDict([('linear_layer.weight', tensor([[0.2112]], device='cuda:0')), ('linear_layer.bias', tensor([0.5121], device='cuda:0'))])\n",
            "\n",
            "Epoch: 110 | Train Loss: 0.115089 | Validate Loss: 0.114157\n",
            "OrderedDict([('linear_layer.weight', tensor([[0.2299]], device='cuda:0')), ('linear_layer.bias', tensor([0.4988], device='cuda:0'))])\n",
            "\n",
            "Epoch: 120 | Train Loss: 0.109802 | Validate Loss: 0.112596\n",
            "OrderedDict([('linear_layer.weight', tensor([[0.2487]], device='cuda:0')), ('linear_layer.bias', tensor([0.4854], device='cuda:0'))])\n",
            "\n",
            "Epoch: 130 | Train Loss: 0.104538 | Validate Loss: 0.110772\n",
            "OrderedDict([('linear_layer.weight', tensor([[0.2677]], device='cuda:0')), ('linear_layer.bias', tensor([0.4728], device='cuda:0'))])\n",
            "\n",
            "Epoch: 140 | Train Loss: 0.099540 | Validate Loss: 0.105222\n",
            "OrderedDict([('linear_layer.weight', tensor([[0.2885]], device='cuda:0')), ('linear_layer.bias', tensor([0.4648], device='cuda:0'))])\n",
            "\n",
            "Epoch: 150 | Train Loss: 0.094553 | Validate Loss: 0.100205\n",
            "OrderedDict([('linear_layer.weight', tensor([[0.3091]], device='cuda:0')), ('linear_layer.bias', tensor([0.4561], device='cuda:0'))])\n",
            "\n",
            "Epoch: 160 | Train Loss: 0.089555 | Validate Loss: 0.094655\n",
            "OrderedDict([('linear_layer.weight', tensor([[0.3300]], device='cuda:0')), ('linear_layer.bias', tensor([0.4481], device='cuda:0'))])\n",
            "\n",
            "Epoch: 170 | Train Loss: 0.084569 | Validate Loss: 0.089637\n",
            "OrderedDict([('linear_layer.weight', tensor([[0.3506]], device='cuda:0')), ('linear_layer.bias', tensor([0.4394], device='cuda:0'))])\n",
            "\n",
            "Epoch: 180 | Train Loss: 0.079570 | Validate Loss: 0.084088\n",
            "OrderedDict([('linear_layer.weight', tensor([[0.3715]], device='cuda:0')), ('linear_layer.bias', tensor([0.4314], device='cuda:0'))])\n",
            "\n",
            "Epoch: 190 | Train Loss: 0.074583 | Validate Loss: 0.079070\n",
            "OrderedDict([('linear_layer.weight', tensor([[0.3921]], device='cuda:0')), ('linear_layer.bias', tensor([0.4228], device='cuda:0'))])\n",
            "\n"
          ]
        }
      ]
    },
    {
      "cell_type": "code",
      "source": [],
      "metadata": {
        "id": "XJW5sT9mcpDX"
      },
      "execution_count": null,
      "outputs": []
    }
  ]
}