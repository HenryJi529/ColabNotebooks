{
  "nbformat": 4,
  "nbformat_minor": 0,
  "metadata": {
    "colab": {
      "provenance": [],
      "authorship_tag": "ABX9TyM2a4F5JjE0q3q2eMQZ36RW",
      "include_colab_link": true
    },
    "kernelspec": {
      "name": "python3",
      "display_name": "Python 3"
    },
    "language_info": {
      "name": "python"
    },
    "accelerator": "GPU",
    "gpuClass": "standard"
  },
  "cells": [
    {
      "cell_type": "markdown",
      "metadata": {
        "id": "view-in-github",
        "colab_type": "text"
      },
      "source": [
        "<a href=\"https://colab.research.google.com/github/HenryJi529/ColabNotebooks/blob/main/PracticePyG2.ipynb\" target=\"_parent\"><img src=\"https://colab.research.google.com/assets/colab-badge.svg\" alt=\"Open In Colab\"/></a>"
      ]
    },
    {
      "cell_type": "markdown",
      "source": [
        "# 数据集制作"
      ],
      "metadata": {
        "id": "9zSVMC0GQuPa"
      }
    },
    {
      "cell_type": "code",
      "source": [
        "# %%capture\n",
        "!pip install SciencePlots\n",
        "!pip install powerlaw\n",
        "!pip install torchmetrics\n",
        "!pip install torchinfo\n",
        "!pip install -U mlxtend\n",
        "!pip install torch_geometric\n",
        "!pip install pyg_lib torch_scatter torch_sparse torch_cluster torch_spline_conv -f https://data.pyg.org/whl/torch-2.0.0+cu118.html\n",
        "\n",
        "from IPython.display import clear_output\n",
        "clear_output()"
      ],
      "metadata": {
        "id": "H0vX2YNHRDcs"
      },
      "execution_count": 2,
      "outputs": []
    },
    {
      "cell_type": "code",
      "source": [
        "import matplotlib as mpl\n",
        "from matplotlib import pyplot as plt\n",
        "# 'serif', 'sans-serif', 'monospace', 'fantasy', 'cursive'\n",
        "cnFont = {'fontname':'Songti SC', 'color':'darkred', 'weight':'bold', 'size': 30}\n",
        "# plt.rcParams['figure.dpi'] = 400\n",
        "# plt.rcParams['savefig.bbox'] = 'tight'\n",
        "import seaborn as sns\n",
        "import scienceplots\n",
        "\n",
        "\n",
        "import numpy as np\n",
        "np.random.seed(520)\n",
        "from scipy import stats, optimize\n",
        "import pandas as pd\n",
        "from sklearn.manifold import TSNE\n",
        "from sklearn.decomposition import PCA\n",
        "from pandas import Series,DataFrame\n",
        "# pd.set_option('display.max_columns',100)\n",
        "# pd.set_option('display.max_rows',100)\n",
        "\n",
        "\n",
        "import networkx as nx\n",
        "import powerlaw\n",
        "\n",
        "\n",
        "from typing import Tuple, Dict, List\n",
        "import os\n",
        "import time, datetime\n",
        "import random\n",
        "from pathlib import Path\n",
        "import requests, zipfile\n",
        "from tqdm.auto import tqdm\n",
        "import torch\n",
        "from torch import nn\n",
        "from torch.utils.data import DataLoader, Dataset\n",
        "from torch.nn import functional as F\n",
        "from torchmetrics import Accuracy, ConfusionMatrix\n",
        "from mlxtend.plotting import plot_confusion_matrix\n",
        "from torchinfo import summary\n",
        "from PIL import Image\n",
        "from sklearn.preprocessing import StandardScaler, PolynomialFeatures\n",
        "\n",
        "import torch_geometric\n",
        "from torch_geometric import datasets, transforms\n",
        "from torch_geometric.utils import to_networkx\n",
        "from torch_geometric.nn import GCNConv, Linear\n",
        "from torch_geometric.data import Data\n",
        "\n",
        "DEVICE = 'cuda' if torch.cuda.is_available() else 'cpu'\n",
        "NUM_WORKERS = os.cpu_count()\n",
        "BATCH_SIZE = 32\n",
        "     "
      ],
      "metadata": {
        "id": "5B61N0PXRUiN"
      },
      "execution_count": 3,
      "outputs": []
    },
    {
      "cell_type": "code",
      "source": [
        "x = torch.tensor([[2,1],[4,5],[12,0],[4,5]], dtype=torch.float)\n",
        "y = torch.tensor([0,1,0,1], dtype=torch.long)\n",
        "edge_index = torch.tensor([[0,1,2,0,3],[1,0,1,3,2]], dtype=torch.long)"
      ],
      "metadata": {
        "id": "10oTeMK2Qzhs"
      },
      "execution_count": 4,
      "outputs": []
    },
    {
      "cell_type": "code",
      "source": [
        "data = Data(x=x, edge_index=edge_index, y=y)\n",
        "data"
      ],
      "metadata": {
        "id": "Jg5_RVYDRzWY",
        "colab": {
          "base_uri": "https://localhost:8080/"
        },
        "outputId": "3900ebc2-b66c-456e-f28d-1b81f1f8c2f5"
      },
      "execution_count": 16,
      "outputs": [
        {
          "output_type": "execute_result",
          "data": {
            "text/plain": [
              "Data(x=[4, 2], edge_index=[2, 5], y=[4])"
            ]
          },
          "metadata": {},
          "execution_count": 16
        }
      ]
    },
    {
      "cell_type": "code",
      "source": [],
      "metadata": {
        "id": "LfdZL4uXolDx"
      },
      "execution_count": null,
      "outputs": []
    }
  ]
}